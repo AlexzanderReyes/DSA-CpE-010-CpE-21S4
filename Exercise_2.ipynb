{
  "nbformat": 4,
  "nbformat_minor": 0,
  "metadata": {
    "colab": {
      "provenance": [],
      "authorship_tag": "ABX9TyOevpP1R8Ev24eSQiOLWVRw",
      "include_colab_link": true
    },
    "kernelspec": {
      "name": "python3",
      "display_name": "Python 3"
    },
    "language_info": {
      "name": "python"
    }
  },
  "cells": [
    {
      "cell_type": "markdown",
      "metadata": {
        "id": "view-in-github",
        "colab_type": "text"
      },
      "source": [
        "<a href=\"https://colab.research.google.com/github/AlexzanderReyes/DSA-CpE-010-CpE-21S4/blob/main/Exercise_2.ipynb\" target=\"_parent\"><img src=\"https://colab.research.google.com/assets/colab-badge.svg\" alt=\"Open In Colab\"/></a>"
      ]
    },
    {
      "cell_type": "code",
      "source": [
        "class Shapes():\n",
        "    def __init__(self, length, width, sides, base, height):\n",
        "        self.length = length\n",
        "        self.width = width\n",
        "        self.sides = sides\n",
        "        self.base = base\n",
        "        self.height = height\n",
        "\n",
        "    def Area_Rectangle(self):\n",
        "        return self.length * self.width\n",
        "\n",
        "    def Area_Square(self):\n",
        "        return self.length ** 2\n",
        "\n",
        "    def Area_Triangle(self):\n",
        "        return self.base * self.height / 2\n",
        "\n",
        "\n",
        "class Rectangle(Shapes):\n",
        "    def __init__(self, length, width):\n",
        "        self.length = length\n",
        "        self.width = width\n",
        "\n",
        "    def area(self):\n",
        "        return self.Area_Rectangle()\n",
        "\n",
        "\n",
        "class Square(Shapes):\n",
        "    def __init__(self, side):\n",
        "        self.length = side\n",
        "\n",
        "    def area(self):\n",
        "        return self.Area_Square()\n",
        "\n",
        "\n",
        "class Triangle(Shapes):\n",
        "    def __init__(self, base, height):\n",
        "        self.base = base\n",
        "        self.height = height\n",
        "\n",
        "    def area(self):\n",
        "        return self.Area_Triangle()\n",
        "\n",
        "rectangle = Rectangle(length=1.5, width=1)\n",
        "print(f\"Area of Rectangle: {rectangle.area()}\")\n",
        "\n",
        "square = Square(side=5)\n",
        "print(f\"Area of Square: {square.area()}\")\n",
        "\n",
        "triangle = Triangle(base=3, height=4)\n",
        "print(f\"Area of Triangle: {triangle.area()}\")"
      ],
      "metadata": {
        "colab": {
          "base_uri": "https://localhost:8080/"
        },
        "id": "O9550A-1-dOr",
        "outputId": "2b726be7-bcad-4c15-978e-903e974947b3"
      },
      "execution_count": 11,
      "outputs": [
        {
          "output_type": "stream",
          "name": "stdout",
          "text": [
            "Area of Rectangle: 1.5\n",
            "Area of Square: 25\n",
            "Area of Triangle: 6.0\n"
          ]
        }
      ]
    }
  ]
}