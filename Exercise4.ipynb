{
  "nbformat": 4,
  "nbformat_minor": 0,
  "metadata": {
    "colab": {
      "provenance": [],
      "authorship_tag": "ABX9TyPzlemkEdpImh2amhGiHONz",
      "include_colab_link": true
    },
    "kernelspec": {
      "name": "python3",
      "display_name": "Python 3"
    },
    "language_info": {
      "name": "python"
    }
  },
  "cells": [
    {
      "cell_type": "markdown",
      "metadata": {
        "id": "view-in-github",
        "colab_type": "text"
      },
      "source": [
        "<a href=\"https://colab.research.google.com/github/AlexzanderReyes/DSA-CpE-010-CpE-21S4/blob/main/Exercise4.ipynb\" target=\"_parent\"><img src=\"https://colab.research.google.com/assets/colab-badge.svg\" alt=\"Open In Colab\"/></a>"
      ]
    },
    {
      "cell_type": "code",
      "source": [
        "# Example 1\n",
        "import array\n",
        "array.typecodes  # get all typecodes\n",
        "a=array.array('i',[1,2,3,4,5])\n",
        "b=array.array('i',[1,2,3,4,5])\n",
        "print(a)\n",
        "print(b)\n",
        "print(a+b)\n"
      ],
      "metadata": {
        "colab": {
          "base_uri": "https://localhost:8080/"
        },
        "id": "SEyCWj76I8ia",
        "outputId": "af10173d-cc64-4f69-a2da-7500f7c3021d"
      },
      "execution_count": 4,
      "outputs": [
        {
          "output_type": "stream",
          "name": "stdout",
          "text": [
            "array('i', [1, 2, 3, 4, 5])\n",
            "array('i', [1, 2, 3, 4, 5])\n",
            "array('i', [1, 2, 3, 4, 5, 1, 2, 3, 4, 5])\n"
          ]
        }
      ]
    },
    {
      "cell_type": "code",
      "execution_count": 2,
      "metadata": {
        "id": "KZu8AesMFKe5",
        "colab": {
          "base_uri": "https://localhost:8080/"
        },
        "outputId": "efee6045-c794-474f-d75e-2df646e4c045"
      },
      "outputs": [
        {
          "output_type": "execute_result",
          "data": {
            "text/plain": [
              "array('i', [4, 2, 5, 6, 7, 0, -1])"
            ]
          },
          "metadata": {},
          "execution_count": 2
        }
      ],
      "source": [
        "# Example 2\n",
        "from array import array # importing array from array module\n",
        "a=array('i',[4,5,6,7])\n",
        "a.insert(1,2)\n",
        "\n",
        "array('i', [4, 2, 5, 6, 7])\n",
        "a.insert(-1,0)\n",
        "\n",
        "a.insert(10,-1)\n",
        "\n",
        "array('i', [4, 2, 5, 6, 7, 0, -1])"
      ]
    },
    {
      "cell_type": "code",
      "source": [
        "# Example 3\n",
        "class Node:\n",
        "    def __init__(self,data):\n",
        "        self.data=data\n",
        "        self.next=None\n",
        "class LinkedList:\n",
        "    def __init__(self):\n",
        "        self.head=None\n",
        "\n",
        "class LinkedList: #This class is likely a duplicate of the one above.\n",
        "    def __init__(self):\n",
        "        self.head=None #This line was not indented.\n",
        "\n",
        "if __name__=='__main__':\n",
        "    list=LinkedList()\n",
        "    list.head=Node(1)\n",
        "    second=Node(2)\n",
        "    third=Node(3)\n",
        "\n",
        "    list.head.next=second\n",
        "    second.next=third"
      ],
      "metadata": {
        "id": "2PbIr4gwI4eY"
      },
      "execution_count": 5,
      "outputs": []
    },
    {
      "cell_type": "code",
      "source": [
        "#Example 4\n",
        "class Node:\n",
        "    def __init__(self,data):\n",
        "        self.data=data\n",
        "        self.next=None\n",
        "class LinkedList:\n",
        "    def __init__(self):\n",
        "        self.head=None\n",
        "\n",
        "    #The printdata function is now part of the LinkedList class\n",
        "    def printdata(self):\n",
        "        temp=self.head\n",
        "        while(temp):\n",
        "            print(temp.data)\n",
        "            temp=temp.next\n",
        "\n",
        "if __name__=='__main__':\n",
        "    list=LinkedList()\n",
        "    list.head=Node(1)\n",
        "    second=Node(2)\n",
        "    third=Node(3)\n",
        "\n",
        "    list.head.next=second\n",
        "    second.next=third\n",
        "\n",
        "    list.printdata()"
      ],
      "metadata": {
        "colab": {
          "base_uri": "https://localhost:8080/"
        },
        "id": "9fgKJLhTLLlT",
        "outputId": "cdb20707-7a8b-4c29-e69a-517498e379af"
      },
      "execution_count": 7,
      "outputs": [
        {
          "output_type": "stream",
          "name": "stdout",
          "text": [
            "1\n",
            "2\n",
            "3\n"
          ]
        }
      ]
    },
    {
      "cell_type": "code",
      "source": [],
      "metadata": {
        "id": "ndbg4EtpRVsT"
      },
      "execution_count": null,
      "outputs": []
    }
  ]
}