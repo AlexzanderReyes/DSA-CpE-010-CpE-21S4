{
  "nbformat": 4,
  "nbformat_minor": 0,
  "metadata": {
    "colab": {
      "provenance": [],
      "authorship_tag": "ABX9TyO1NVCbVHbvHHYp7x7bTQG1",
      "include_colab_link": true
    },
    "kernelspec": {
      "name": "python3",
      "display_name": "Python 3"
    },
    "language_info": {
      "name": "python"
    }
  },
  "cells": [
    {
      "cell_type": "markdown",
      "metadata": {
        "id": "view-in-github",
        "colab_type": "text"
      },
      "source": [
        "<a href=\"https://colab.research.google.com/github/AlexzanderReyes/DSA-CpE-010-CpE-21S4/blob/main/Exercise_1.ipynb\" target=\"_parent\"><img src=\"https://colab.research.google.com/assets/colab-badge.svg\" alt=\"Open In Colab\"/></a>"
      ]
    },
    {
      "cell_type": "markdown",
      "source": [
        "# **Exercise 1 (Class Constructor and Method)**\n",
        "\n",
        "1. Develop a python program that computes the area of the Rectangle shape\n",
        "2. Use Rectangle () as a class name\n",
        "3. Use attributes length and width\n",
        "4. Calculate the Area () of the rectangle\n",
        "5. Display the computed area of a rectangle\n",
        "\n",
        "# **Note: OOP Concepts of computing the area of a rectangle**"
      ],
      "metadata": {
        "id": "pyrDtJAzwzGI"
      }
    },
    {
      "cell_type": "code",
      "source": [
        "def Rectangle ():\n",
        "# Inputing of length and width\n",
        "  length = int(input(\"Enter the length of the Rectangle: \"))\n",
        "  width = int(input(\"Enter the width of the Rectangle: \"))\n",
        "# Calculating of the Area of the Rectangle\n",
        "  Area = length * width\n",
        "# This will print the Output\n",
        "  print(\"The Area of the Rectangle is \", Area)\n",
        "\n",
        "Rectangle ()"
      ],
      "metadata": {
        "colab": {
          "base_uri": "https://localhost:8080/"
        },
        "id": "mSohHqAww-aH",
        "outputId": "50ac561d-e6b7-4a7e-8e8b-ff8ac855cbb4"
      },
      "execution_count": 7,
      "outputs": [
        {
          "output_type": "stream",
          "name": "stdout",
          "text": [
            "Enter the length of the Rectangle: 10\n",
            "Enter the width of the Rectangle: 10\n",
            "The Area of the Rectangle is  100\n"
          ]
        }
      ]
    }
  ]
}